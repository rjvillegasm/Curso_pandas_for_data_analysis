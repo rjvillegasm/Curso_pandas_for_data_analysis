{
 "cells": [
  {
   "cell_type": "code",
   "execution_count": 1,
   "id": "10ad274d-7cba-4743-9e45-e88757b8d79c",
   "metadata": {},
   "outputs": [
    {
     "data": {
      "text/plain": [
       "2"
      ]
     },
     "execution_count": 1,
     "metadata": {},
     "output_type": "execute_result"
    }
   ],
   "source": [
    "1+1"
   ]
  },
  {
   "cell_type": "code",
   "execution_count": 5,
   "id": "341aa277-5d4d-43ed-b471-af66a277820f",
   "metadata": {},
   "outputs": [
    {
     "name": "stdout",
     "output_type": "stream",
     "text": [
      "4\n"
     ]
    }
   ],
   "source": [
    "x = 2+2\n",
    "print (x)"
   ]
  },
  {
   "cell_type": "markdown",
   "id": "ab8c2556-2a8c-4906-91d0-a9664cdb5428",
   "metadata": {},
   "source": [
    "holaUI"
   ]
  },
  {
   "cell_type": "markdown",
   "id": "93f41125-e295-4094-9201-1ce8ecbac9ed",
   "metadata": {},
   "source": [
    "//hola"
   ]
  },
  {
   "cell_type": "code",
   "execution_count": 3,
   "id": "1d3eed32-b6d7-45cd-a91a-f55d4f2b6234",
   "metadata": {},
   "outputs": [],
   "source": [
    "import pandas as pd\n",
    "import numpy as np"
   ]
  },
  {
   "cell_type": "code",
   "execution_count": 5,
   "id": "0f432642-c4c5-4347-aa13-a000fa269146",
   "metadata": {},
   "outputs": [
    {
     "data": {
      "text/plain": [
       "'1.5.0'"
      ]
     },
     "execution_count": 5,
     "metadata": {},
     "output_type": "execute_result"
    }
   ],
   "source": [
    "pd.__version__"
   ]
  },
  {
   "cell_type": "markdown",
   "id": "d3938d06-6ba8-4bff-a5bb-5cb6f414ec26",
   "metadata": {},
   "source": [
    "si devuelve el nro de version, entonces pd fue importado  correctamente"
   ]
  },
  {
   "cell_type": "code",
   "execution_count": 1,
   "id": "37f2941b-7277-4460-bee1-45fc88143568",
   "metadata": {},
   "outputs": [],
   "source": [
    "%config Completer.use_jedi = False"
   ]
  },
  {
   "cell_type": "markdown",
   "id": "ed5dc4dd-7bac-4be8-a6bf-a985a48a4eec",
   "metadata": {},
   "source": [
    "jedi orogina errores al momento de autocompletar"
   ]
  },
  {
   "cell_type": "code",
   "execution_count": 5,
   "id": "7ce9a8dc-d161-4ca5-9090-6c806a08fc64",
   "metadata": {},
   "outputs": [],
   "source": [
    "# comentario en el código con \"gato\""
   ]
  },
  {
   "cell_type": "code",
   "execution_count": 8,
   "id": "fa4f44a5-d7f1-4b55-902b-413ec5f60443",
   "metadata": {},
   "outputs": [
    {
     "data": {
      "text/plain": [
       "True"
      ]
     },
     "execution_count": 8,
     "metadata": {},
     "output_type": "execute_result"
    }
   ],
   "source": [
    "# boolean\n",
    "True"
   ]
  },
  {
   "cell_type": "code",
   "execution_count": 9,
   "id": "d604fa1c-10c6-4a40-be74-ac6f650cbd5c",
   "metadata": {},
   "outputs": [
    {
     "data": {
      "text/plain": [
       "True"
      ]
     },
     "execution_count": 9,
     "metadata": {},
     "output_type": "execute_result"
    }
   ],
   "source": [
    "5>3"
   ]
  },
  {
   "cell_type": "code",
   "execution_count": 11,
   "id": "58511735-2051-4d07-809c-7ec842309615",
   "metadata": {},
   "outputs": [
    {
     "data": {
      "text/plain": [
       "False"
      ]
     },
     "execution_count": 11,
     "metadata": {},
     "output_type": "execute_result"
    }
   ],
   "source": [
    "10>12"
   ]
  },
  {
   "cell_type": "code",
   "execution_count": 13,
   "id": "68aa7906-805f-4c2d-9fc3-4c24bcf8c289",
   "metadata": {},
   "outputs": [],
   "source": [
    "#objeto None, representa un objeto vacio\n",
    "\n",
    "None"
   ]
  },
  {
   "cell_type": "code",
   "execution_count": 17,
   "id": "3819fd0c-7a4c-450c-abc8-417f555cdcc5",
   "metadata": {},
   "outputs": [
    {
     "data": {
      "text/plain": [
       "'hola mundo hola mundo hola mundo hola mundo hola mundo '"
      ]
     },
     "execution_count": 17,
     "metadata": {},
     "output_type": "execute_result"
    }
   ],
   "source": [
    "#multiplicar un string\n",
    "\n",
    "\"hola mundo \" * 5"
   ]
  },
  {
   "cell_type": "code",
   "execution_count": 19,
   "id": "af61646f-89dd-418a-a3a4-8ba369a04e96",
   "metadata": {},
   "outputs": [
    {
     "data": {
      "text/plain": [
       "5.0"
      ]
     },
     "execution_count": 19,
     "metadata": {},
     "output_type": "execute_result"
    }
   ],
   "source": [
    "# las divisiones siempre devuelven un float = decimales \n",
    "10/2\n"
   ]
  },
  {
   "cell_type": "code",
   "execution_count": 22,
   "id": "b81a9c25-85f6-44f2-b5de-b2ea5806b5b5",
   "metadata": {},
   "outputs": [
    {
     "data": {
      "text/plain": [
       "2"
      ]
     },
     "execution_count": 22,
     "metadata": {},
     "output_type": "execute_result"
    }
   ],
   "source": [
    "# se pueden truncar divisiones usando \"//\" \n",
    "7//3\n"
   ]
  },
  {
   "cell_type": "code",
   "execution_count": 29,
   "id": "58525af5-5bdd-48f7-807a-2cebcd148092",
   "metadata": {},
   "outputs": [
    {
     "data": {
      "text/plain": [
       "1"
      ]
     },
     "execution_count": 29,
     "metadata": {},
     "output_type": "execute_result"
    }
   ],
   "source": [
    "# modulo  \"%\"   : es lo que queda en la division entre 2 numeros escalares \n",
    "\n",
    "9%2"
   ]
  },
  {
   "cell_type": "code",
   "execution_count": 3,
   "id": "d62c847c-737f-4689-9414-7218f5f21529",
   "metadata": {},
   "outputs": [
    {
     "data": {
      "text/plain": [
       "27"
      ]
     },
     "execution_count": 3,
     "metadata": {},
     "output_type": "execute_result"
    }
   ],
   "source": [
    "#funciones\n",
    "\n",
    "len (\"cuantos caracteres hay aqui\") \n"
   ]
  },
  {
   "cell_type": "code",
   "execution_count": 4,
   "id": "d09dd26f",
   "metadata": {},
   "outputs": [
    {
     "data": {
      "text/plain": [
       "'3.14'"
      ]
     },
     "execution_count": 4,
     "metadata": {},
     "output_type": "execute_result"
    }
   ],
   "source": [
    "str(3.14)\n"
   ]
  },
  {
   "cell_type": "code",
   "execution_count": 5,
   "id": "4071cdc8",
   "metadata": {},
   "outputs": [
    {
     "data": {
      "text/plain": [
       "10"
      ]
     },
     "execution_count": 5,
     "metadata": {},
     "output_type": "execute_result"
    }
   ],
   "source": [
    "int(\"10\")\n"
   ]
  },
  {
   "cell_type": "code",
   "execution_count": 6,
   "id": "aea28348",
   "metadata": {},
   "outputs": [
    {
     "data": {
      "text/plain": [
       "98.15"
      ]
     },
     "execution_count": 6,
     "metadata": {},
     "output_type": "execute_result"
    }
   ],
   "source": [
    "float(\"98.15\")\n"
   ]
  },
  {
   "cell_type": "code",
   "execution_count": 7,
   "id": "93f5e9e0",
   "metadata": {},
   "outputs": [
    {
     "data": {
      "text/plain": [
       "int"
      ]
     },
     "execution_count": 7,
     "metadata": {},
     "output_type": "execute_result"
    }
   ],
   "source": [
    "type(5)"
   ]
  },
  {
   "cell_type": "code",
   "execution_count": 8,
   "id": "7b4f65b6",
   "metadata": {},
   "outputs": [
    {
     "data": {
      "text/plain": [
       "float"
      ]
     },
     "execution_count": 8,
     "metadata": {},
     "output_type": "execute_result"
    }
   ],
   "source": [
    "type(3.14)"
   ]
  },
  {
   "cell_type": "code",
   "execution_count": 3,
   "id": "9542c298",
   "metadata": {},
   "outputs": [],
   "source": [
    "def convert_to_fahrenheit (temp_celsius):\n",
    "    x = temp_celsius *1.8\n",
    "    return x +32 "
   ]
  },
  {
   "cell_type": "code",
   "execution_count": 8,
   "id": "244fc927",
   "metadata": {},
   "outputs": [
    {
     "data": {
      "text/plain": [
       "50.0"
      ]
     },
     "execution_count": 8,
     "metadata": {},
     "output_type": "execute_result"
    }
   ],
   "source": [
    "convert_to_fahrenheit(10)"
   ]
  },
  {
   "cell_type": "code",
   "execution_count": 9,
   "id": "e2f3bc6c",
   "metadata": {},
   "outputs": [
    {
     "data": {
      "text/plain": [
       "50.0"
      ]
     },
     "execution_count": 9,
     "metadata": {},
     "output_type": "execute_result"
    }
   ],
   "source": [
    "convert_to_fahrenheit (temp_celsius=10)"
   ]
  },
  {
   "cell_type": "code",
   "execution_count": 12,
   "id": "e13589c5",
   "metadata": {},
   "outputs": [],
   "source": [
    "def convert_to_fahrenheit2 (temp_celsius= 0):\n",
    "    x = temp_celsius *1.8\n",
    "    return x + 32"
   ]
  },
  {
   "cell_type": "code",
   "execution_count": 17,
   "id": "58db439d",
   "metadata": {},
   "outputs": [
    {
     "data": {
      "text/plain": [
       "32.0"
      ]
     },
     "execution_count": 17,
     "metadata": {},
     "output_type": "execute_result"
    }
   ],
   "source": [
    "convert_to_fahrenheit2 ()"
   ]
  },
  {
   "cell_type": "code",
   "execution_count": 19,
   "id": "aeb7d1fc",
   "metadata": {},
   "outputs": [],
   "source": [
    "def convert_to_currency (x =0):\n",
    "    y = \"$\"+str(x) \n",
    "    return y"
   ]
  },
  {
   "cell_type": "code",
   "execution_count": 20,
   "id": "5afc685e",
   "metadata": {},
   "outputs": [
    {
     "data": {
      "text/plain": [
       "'$100'"
      ]
     },
     "execution_count": 20,
     "metadata": {},
     "output_type": "execute_result"
    }
   ],
   "source": [
    "convert_to_currency (100)"
   ]
  },
  {
   "cell_type": "code",
   "execution_count": 2,
   "id": "9b7f6212",
   "metadata": {},
   "outputs": [],
   "source": [
    "def easy_money():\n",
    "    return 100\n"
   ]
  },
  {
   "cell_type": "code",
   "execution_count": 3,
   "id": "80cb579b",
   "metadata": {},
   "outputs": [
    {
     "data": {
      "text/plain": [
       "100"
      ]
     },
     "execution_count": 3,
     "metadata": {},
     "output_type": "execute_result"
    }
   ],
   "source": [
    "easy_money()"
   ]
  },
  {
   "cell_type": "code",
   "execution_count": 2,
   "id": "66b66c29",
   "metadata": {},
   "outputs": [],
   "source": [
    "profession = \"developer\""
   ]
  },
  {
   "cell_type": "code",
   "execution_count": 3,
   "id": "5e94d40c",
   "metadata": {},
   "outputs": [
    {
     "data": {
      "text/plain": [
       "'DEVELOPER'"
      ]
     },
     "execution_count": 3,
     "metadata": {},
     "output_type": "execute_result"
    }
   ],
   "source": [
    "profession.upper()"
   ]
  },
  {
   "cell_type": "code",
   "execution_count": 4,
   "id": "803b74c3",
   "metadata": {},
   "outputs": [
    {
     "data": {
      "text/plain": [
       "'Developer'"
      ]
     },
     "execution_count": 4,
     "metadata": {},
     "output_type": "execute_result"
    }
   ],
   "source": [
    "profession.capitalize()"
   ]
  },
  {
   "cell_type": "code",
   "execution_count": 6,
   "id": "a36334d2",
   "metadata": {},
   "outputs": [
    {
     "data": {
      "text/plain": [
       "'MINUSCULAS'"
      ]
     },
     "execution_count": 6,
     "metadata": {},
     "output_type": "execute_result"
    }
   ],
   "source": [
    "\"minusculas\".upper()"
   ]
  },
  {
   "cell_type": "code",
   "execution_count": 7,
   "id": "c24dbf2c",
   "metadata": {},
   "outputs": [
    {
     "data": {
      "text/plain": [
       "'lEtRaS'"
      ]
     },
     "execution_count": 7,
     "metadata": {},
     "output_type": "execute_result"
    }
   ],
   "source": [
    "\"LeTrAs\".swapcase()"
   ]
  },
  {
   "cell_type": "code",
   "execution_count": 9,
   "id": "1efc3ddb",
   "metadata": {},
   "outputs": [
    {
     "data": {
      "text/plain": [
       "'Erase Una Vez'"
      ]
     },
     "execution_count": 9,
     "metadata": {},
     "output_type": "execute_result"
    }
   ],
   "source": [
    "\"erase una vez\".title()"
   ]
  },
  {
   "cell_type": "code",
   "execution_count": 10,
   "id": "2ba5a74e",
   "metadata": {},
   "outputs": [
    {
     "data": {
      "text/plain": [
       "'Erase una vez'"
      ]
     },
     "execution_count": 10,
     "metadata": {},
     "output_type": "execute_result"
    }
   ],
   "source": [
    "\"erase una vez\".capitalize()"
   ]
  },
  {
   "cell_type": "code",
   "execution_count": 17,
   "id": "fe43d9c9",
   "metadata": {},
   "outputs": [],
   "source": [
    "profession2 = \"      dEsArRolLaDoR   \""
   ]
  },
  {
   "cell_type": "code",
   "execution_count": 18,
   "id": "d5dc051e",
   "metadata": {},
   "outputs": [],
   "source": [
    "profession2 = profession2.lower()"
   ]
  },
  {
   "cell_type": "code",
   "execution_count": 19,
   "id": "442abdaa",
   "metadata": {},
   "outputs": [
    {
     "data": {
      "text/plain": [
       "'      desarrollador   '"
      ]
     },
     "execution_count": 19,
     "metadata": {},
     "output_type": "execute_result"
    }
   ],
   "source": [
    "profession2"
   ]
  },
  {
   "cell_type": "code",
   "execution_count": 20,
   "id": "a799a530",
   "metadata": {},
   "outputs": [
    {
     "data": {
      "text/plain": [
       "'desarrollador   '"
      ]
     },
     "execution_count": 20,
     "metadata": {},
     "output_type": "execute_result"
    }
   ],
   "source": [
    "profession2 = profession2.lstrip()\n",
    "profession2"
   ]
  },
  {
   "cell_type": "code",
   "execution_count": 21,
   "id": "5bfed472",
   "metadata": {},
   "outputs": [
    {
     "data": {
      "text/plain": [
       "'desarrollador'"
      ]
     },
     "execution_count": 21,
     "metadata": {},
     "output_type": "execute_result"
    }
   ],
   "source": [
    "profession2= profession2.rstrip()\n",
    "profession2"
   ]
  },
  {
   "cell_type": "code",
   "execution_count": 24,
   "id": "5306f32f",
   "metadata": {},
   "outputs": [
    {
     "data": {
      "text/plain": [
       "'des@rroll@dor'"
      ]
     },
     "execution_count": 24,
     "metadata": {},
     "output_type": "execute_result"
    }
   ],
   "source": [
    "profession2.replace(\"a\",\"@\")"
   ]
  },
  {
   "cell_type": "code",
   "execution_count": 25,
   "id": "dca0089a",
   "metadata": {},
   "outputs": [],
   "source": [
    "x = \"   palabritas    \""
   ]
  },
  {
   "cell_type": "code",
   "execution_count": 28,
   "id": "a98fd287",
   "metadata": {},
   "outputs": [],
   "source": [
    "x=x.strip()"
   ]
  },
  {
   "cell_type": "code",
   "execution_count": 29,
   "id": "31214a2a",
   "metadata": {},
   "outputs": [
    {
     "data": {
      "text/plain": [
       "'palabritas'"
      ]
     },
     "execution_count": 29,
     "metadata": {},
     "output_type": "execute_result"
    }
   ],
   "source": [
    "x"
   ]
  },
  {
   "cell_type": "code",
   "execution_count": 30,
   "id": "b769506a",
   "metadata": {},
   "outputs": [
    {
     "data": {
      "text/plain": [
       "True"
      ]
     },
     "execution_count": 30,
     "metadata": {},
     "output_type": "execute_result"
    }
   ],
   "source": [
    "x.startswith(\"pa\")"
   ]
  },
  {
   "cell_type": "code",
   "execution_count": 32,
   "id": "54fba143",
   "metadata": {},
   "outputs": [
    {
     "data": {
      "text/plain": [
       "False"
      ]
     },
     "execution_count": 32,
     "metadata": {},
     "output_type": "execute_result"
    }
   ],
   "source": [
    "x.endswith(\"z\")"
   ]
  },
  {
   "cell_type": "code",
   "execution_count": 34,
   "id": "cd809ac7",
   "metadata": {},
   "outputs": [
    {
     "data": {
      "text/plain": [
       "True"
      ]
     },
     "execution_count": 34,
     "metadata": {},
     "output_type": "execute_result"
    }
   ],
   "source": [
    "\"britas\" in x"
   ]
  },
  {
   "cell_type": "code",
   "execution_count": 35,
   "id": "0c866239",
   "metadata": {},
   "outputs": [
    {
     "data": {
      "text/plain": [
       "True"
      ]
     },
     "execution_count": 35,
     "metadata": {},
     "output_type": "execute_result"
    }
   ],
   "source": [
    "\"abri\" in x"
   ]
  },
  {
   "cell_type": "code",
   "execution_count": 36,
   "id": "80500b1f",
   "metadata": {},
   "outputs": [
    {
     "data": {
      "text/plain": [
       "True"
      ]
     },
     "execution_count": 36,
     "metadata": {},
     "output_type": "execute_result"
    }
   ],
   "source": [
    "\"abril\" not in x"
   ]
  },
  {
   "cell_type": "code",
   "execution_count": 37,
   "id": "357dabb7",
   "metadata": {},
   "outputs": [],
   "source": [
    "y = \"   PalabRoTAS  \""
   ]
  },
  {
   "cell_type": "code",
   "execution_count": 46,
   "id": "4a19f8d2",
   "metadata": {},
   "outputs": [
    {
     "data": {
      "text/plain": [
       "'palabraaatas'"
      ]
     },
     "execution_count": 46,
     "metadata": {},
     "output_type": "execute_result"
    }
   ],
   "source": [
    "Z=y.strip().lower().replace(\"o\", \"aaa\")\n",
    "Z"
   ]
  },
  {
   "cell_type": "code",
   "execution_count": 5,
   "id": "6afaf893-7368-42b8-8646-24c4b5704f69",
   "metadata": {},
   "outputs": [
    {
     "data": {
      "text/plain": [
       "['a', 'b', 'c', 'd']"
      ]
     },
     "execution_count": 5,
     "metadata": {},
     "output_type": "execute_result"
    }
   ],
   "source": [
    "#listas o arreglos en C++\n",
    "\n",
    "[\"a\",\"b\",\"c\",\"d\"]\n"
   ]
  },
  {
   "cell_type": "code",
   "execution_count": 6,
   "id": "96810734-8b07-49f2-bfd5-5998ef26469f",
   "metadata": {},
   "outputs": [
    {
     "data": {
      "text/plain": [
       "[1]"
      ]
     },
     "execution_count": 6,
     "metadata": {},
     "output_type": "execute_result"
    }
   ],
   "source": [
    "[1]"
   ]
  },
  {
   "cell_type": "code",
   "execution_count": 10,
   "id": "6d38de62-38b2-4d91-bd85-73ea0e94db2d",
   "metadata": {},
   "outputs": [
    {
     "name": "stdout",
     "output_type": "stream",
     "text": [
      "[1, 2, 3, 4]\n"
     ]
    }
   ],
   "source": [
    "x=[1,2,3,4]\n",
    "print(x)\n"
   ]
  },
  {
   "cell_type": "code",
   "execution_count": 3,
   "id": "6e893435-f101-4b55-9b92-160161b12169",
   "metadata": {},
   "outputs": [
    {
     "data": {
      "text/plain": [
       "[True, False, True]"
      ]
     },
     "execution_count": 3,
     "metadata": {},
     "output_type": "execute_result"
    }
   ],
   "source": [
    "[True, False,True]\n"
   ]
  },
  {
   "cell_type": "code",
   "execution_count": 4,
   "id": "03a301d0",
   "metadata": {},
   "outputs": [],
   "source": [
    "party_atteendees = [\"miguel\", \"fernando\",\"jaime\"]"
   ]
  },
  {
   "cell_type": "code",
   "execution_count": 5,
   "id": "bb469753",
   "metadata": {},
   "outputs": [
    {
     "data": {
      "text/plain": [
       "['miguel', 'fernando', 'jaime']"
      ]
     },
     "execution_count": 5,
     "metadata": {},
     "output_type": "execute_result"
    }
   ],
   "source": [
    "party_atteendees"
   ]
  },
  {
   "cell_type": "code",
   "execution_count": 7,
   "id": "a240c6de",
   "metadata": {},
   "outputs": [
    {
     "data": {
      "text/plain": [
       "[]"
      ]
     },
     "execution_count": 7,
     "metadata": {},
     "output_type": "execute_result"
    }
   ],
   "source": [
    "#exiet el arreglo vacio\n",
    "\n",
    "[]"
   ]
  },
  {
   "cell_type": "code",
   "execution_count": 8,
   "id": "7e9a843e",
   "metadata": {},
   "outputs": [
    {
     "data": {
      "text/plain": [
       "3"
      ]
     },
     "execution_count": 8,
     "metadata": {},
     "output_type": "execute_result"
    }
   ],
   "source": [
    "len(party_atteendees)"
   ]
  },
  {
   "cell_type": "code",
   "execution_count": 9,
   "id": "dbdd7601",
   "metadata": {},
   "outputs": [
    {
     "data": {
      "text/plain": [
       "list"
      ]
     },
     "execution_count": 9,
     "metadata": {},
     "output_type": "execute_result"
    }
   ],
   "source": [
    "type(party_atteendees)"
   ]
  },
  {
   "cell_type": "code",
   "execution_count": 15,
   "id": "1135ad6f",
   "metadata": {},
   "outputs": [],
   "source": [
    "presidentes = [\"borin\", \"michelle\"]"
   ]
  },
  {
   "cell_type": "code",
   "execution_count": 16,
   "id": "b8f89ccf",
   "metadata": {},
   "outputs": [],
   "source": [
    "presidentes.append(\"richi_lake\")"
   ]
  },
  {
   "cell_type": "code",
   "execution_count": 31,
   "id": "ba4ffe43",
   "metadata": {},
   "outputs": [
    {
     "data": {
      "text/plain": [
       "['borin', 'michelle', 'richi_lake']"
      ]
     },
     "execution_count": 31,
     "metadata": {},
     "output_type": "execute_result"
    }
   ],
   "source": [
    "presidentes\n"
   ]
  },
  {
   "cell_type": "code",
   "execution_count": 44,
   "id": "0f42ff88",
   "metadata": {},
   "outputs": [
    {
     "data": {
      "text/plain": [
       "['Salted', 'Unsalted', 'Caramel']"
      ]
     },
     "execution_count": 44,
     "metadata": {},
     "output_type": "execute_result"
    }
   ],
   "source": [
    "popcorn = [\"Salted\",\"Unsalted\",\"Caramel\"]\n",
    "popcorn"
   ]
  },
  {
   "cell_type": "code",
   "execution_count": 45,
   "id": "f81b4214",
   "metadata": {},
   "outputs": [
    {
     "data": {
      "text/plain": [
       "'Caramel'"
      ]
     },
     "execution_count": 45,
     "metadata": {},
     "output_type": "execute_result"
    }
   ],
   "source": [
    "popcorn.pop()"
   ]
  },
  {
   "cell_type": "code",
   "execution_count": 46,
   "id": "df32c00c",
   "metadata": {},
   "outputs": [
    {
     "data": {
      "text/plain": [
       "['Salted', 'Unsalted']"
      ]
     },
     "execution_count": 46,
     "metadata": {},
     "output_type": "execute_result"
    }
   ],
   "source": [
    "popcorn\n"
   ]
  },
  {
   "cell_type": "code",
   "execution_count": 47,
   "id": "bd5c8894",
   "metadata": {},
   "outputs": [],
   "source": [
    "popcorn.remove(\"Salted\")"
   ]
  },
  {
   "cell_type": "code",
   "execution_count": 48,
   "id": "e88a6d86",
   "metadata": {},
   "outputs": [
    {
     "data": {
      "text/plain": [
       "['Unsalted']"
      ]
     },
     "execution_count": 48,
     "metadata": {},
     "output_type": "execute_result"
    }
   ],
   "source": [
    "popcorn"
   ]
  },
  {
   "cell_type": "code",
   "execution_count": 49,
   "id": "bb5725d1",
   "metadata": {},
   "outputs": [],
   "source": [
    "planets =[\"Mercury\",\"Venus\",\"Earth\",\"Mars\"]"
   ]
  },
  {
   "cell_type": "code",
   "execution_count": 52,
   "id": "a931bd7c",
   "metadata": {},
   "outputs": [
    {
     "data": {
      "text/plain": [
       "True"
      ]
     },
     "execution_count": 52,
     "metadata": {},
     "output_type": "execute_result"
    }
   ],
   "source": [
    "\"Earth\" in planets"
   ]
  },
  {
   "cell_type": "code",
   "execution_count": 53,
   "id": "27e288c3",
   "metadata": {},
   "outputs": [
    {
     "data": {
      "text/plain": [
       "False"
      ]
     },
     "execution_count": 53,
     "metadata": {},
     "output_type": "execute_result"
    }
   ],
   "source": [
    "\"earth\" in planets"
   ]
  },
  {
   "cell_type": "code",
   "execution_count": 54,
   "id": "c15bd1b0",
   "metadata": {},
   "outputs": [
    {
     "data": {
      "text/plain": [
       "True"
      ]
     },
     "execution_count": 54,
     "metadata": {},
     "output_type": "execute_result"
    }
   ],
   "source": [
    "\"pluton\" not in planets"
   ]
  },
  {
   "cell_type": "code",
   "execution_count": 55,
   "id": "94d692eb",
   "metadata": {},
   "outputs": [
    {
     "data": {
      "text/plain": [
       "False"
      ]
     },
     "execution_count": 55,
     "metadata": {},
     "output_type": "execute_result"
    }
   ],
   "source": [
    "\"Mars\" not in planets"
   ]
  },
  {
   "cell_type": "code",
   "execution_count": 5,
   "id": "e607c1ac",
   "metadata": {},
   "outputs": [],
   "source": [
    "def is_long (lista):\n",
    "    x = False\n",
    "    if len(lista)>5:\n",
    "        x = True\n",
    "    return x  "
   ]
  },
  {
   "cell_type": "code",
   "execution_count": 6,
   "id": "279d0d1b",
   "metadata": {},
   "outputs": [
    {
     "data": {
      "text/plain": [
       "False"
      ]
     },
     "execution_count": 6,
     "metadata": {},
     "output_type": "execute_result"
    }
   ],
   "source": [
    "is_long([1,3,2,4,5,])"
   ]
  },
  {
   "cell_type": "code",
   "execution_count": 15,
   "id": "57bdef09",
   "metadata": {},
   "outputs": [],
   "source": [
    "def es_largo (x):\n",
    "    return len (x)>3\n"
   ]
  },
  {
   "cell_type": "code",
   "execution_count": 16,
   "id": "b5a38da3",
   "metadata": {},
   "outputs": [
    {
     "data": {
      "text/plain": [
       "False"
      ]
     },
     "execution_count": 16,
     "metadata": {},
     "output_type": "execute_result"
    }
   ],
   "source": [
    "es_largo(\"dos\")"
   ]
  },
  {
   "cell_type": "code",
   "execution_count": 1,
   "id": "94b33450",
   "metadata": {},
   "outputs": [],
   "source": [
    "spiderman = \"Spiderman\""
   ]
  },
  {
   "cell_type": "code",
   "execution_count": 5,
   "id": "8b3d23f5",
   "metadata": {},
   "outputs": [
    {
     "data": {
      "text/plain": [
       "'pi'"
      ]
     },
     "execution_count": 5,
     "metadata": {},
     "output_type": "execute_result"
    }
   ],
   "source": [
    "spiderman[1:3]\n"
   ]
  },
  {
   "cell_type": "code",
   "execution_count": 8,
   "id": "700a5a68",
   "metadata": {},
   "outputs": [
    {
     "data": {
      "text/plain": [
       "'Spi'"
      ]
     },
     "execution_count": 8,
     "metadata": {},
     "output_type": "execute_result"
    }
   ],
   "source": [
    "spiderman[:3]"
   ]
  },
  {
   "cell_type": "code",
   "execution_count": 10,
   "id": "1b0604cc",
   "metadata": {},
   "outputs": [
    {
     "data": {
      "text/plain": [
       "'man'"
      ]
     },
     "execution_count": 10,
     "metadata": {},
     "output_type": "execute_result"
    }
   ],
   "source": [
    "spiderman[6:]"
   ]
  },
  {
   "cell_type": "code",
   "execution_count": 15,
   "id": "76c28dc4",
   "metadata": {},
   "outputs": [
    {
     "data": {
      "text/plain": [
       "'rma'"
      ]
     },
     "execution_count": 15,
     "metadata": {},
     "output_type": "execute_result"
    }
   ],
   "source": [
    "spiderman[-4:-1]"
   ]
  },
  {
   "cell_type": "code",
   "execution_count": 16,
   "id": "7f22c771",
   "metadata": {},
   "outputs": [],
   "source": [
    "superheroes=[\"batman\",\"superman\",\"wolverine\",\"ironman\"]"
   ]
  },
  {
   "cell_type": "code",
   "execution_count": 20,
   "id": "82a4d20f",
   "metadata": {},
   "outputs": [
    {
     "data": {
      "text/plain": [
       "['superman', 'wolverine']"
      ]
     },
     "execution_count": 20,
     "metadata": {},
     "output_type": "execute_result"
    }
   ],
   "source": [
    "superheroes[1:3]"
   ]
  },
  {
   "cell_type": "code",
   "execution_count": 21,
   "id": "7dc1a187",
   "metadata": {},
   "outputs": [
    {
     "data": {
      "text/plain": [
       "['batman', 'superman', 'wolverine', 'ironman']"
      ]
     },
     "execution_count": 21,
     "metadata": {},
     "output_type": "execute_result"
    }
   ],
   "source": [
    "superheroes"
   ]
  },
  {
   "cell_type": "code",
   "execution_count": 22,
   "id": "666dcd9a",
   "metadata": {},
   "outputs": [
    {
     "data": {
      "text/plain": [
       "['batman', 'superman', 'wolverine', 'ironman']"
      ]
     },
     "execution_count": 22,
     "metadata": {},
     "output_type": "execute_result"
    }
   ],
   "source": [
    "superheroes[:]"
   ]
  },
  {
   "cell_type": "code",
   "execution_count": 1,
   "id": "34afb9c8",
   "metadata": {},
   "outputs": [],
   "source": [
    "menu={\"Filete\": 29.99 , \"Big mac\": 3.99 , \"Pizza slice\": 0.99, \"Salmon\": 29.99 }"
   ]
  },
  {
   "cell_type": "code",
   "execution_count": 2,
   "id": "e19b5226",
   "metadata": {},
   "outputs": [
    {
     "data": {
      "text/plain": [
       "4"
      ]
     },
     "execution_count": 2,
     "metadata": {},
     "output_type": "execute_result"
    }
   ],
   "source": [
    "len(menu)"
   ]
  },
  {
   "cell_type": "code",
   "execution_count": 3,
   "id": "aa8ea119",
   "metadata": {},
   "outputs": [
    {
     "data": {
      "text/plain": [
       "3.99"
      ]
     },
     "execution_count": 3,
     "metadata": {},
     "output_type": "execute_result"
    }
   ],
   "source": [
    "menu [\"Big mac\"]"
   ]
  },
  {
   "cell_type": "code",
   "execution_count": 6,
   "id": "2c9885ef",
   "metadata": {},
   "outputs": [
    {
     "data": {
      "text/plain": [
       "29.99"
      ]
     },
     "execution_count": 6,
     "metadata": {},
     "output_type": "execute_result"
    }
   ],
   "source": [
    "menu[\"Salmon\"]"
   ]
  },
  {
   "cell_type": "code",
   "execution_count": 7,
   "id": "9311d43c",
   "metadata": {},
   "outputs": [],
   "source": [
    "menu [\"Burrito\"] =13.99"
   ]
  },
  {
   "cell_type": "code",
   "execution_count": 8,
   "id": "4924228c",
   "metadata": {},
   "outputs": [
    {
     "data": {
      "text/plain": [
       "{'Filete': 29.99,\n",
       " 'Big mac': 3.99,\n",
       " 'Pizza slice': 0.99,\n",
       " 'Salmon': 29.99,\n",
       " 'Burrito': 13.99}"
      ]
     },
     "execution_count": 8,
     "metadata": {},
     "output_type": "execute_result"
    }
   ],
   "source": [
    "menu"
   ]
  },
  {
   "cell_type": "code",
   "execution_count": 9,
   "id": "7c06dba2",
   "metadata": {},
   "outputs": [],
   "source": [
    "menu[\"Big mac\"]=5.99"
   ]
  },
  {
   "cell_type": "code",
   "execution_count": 10,
   "id": "88011e2f",
   "metadata": {},
   "outputs": [
    {
     "data": {
      "text/plain": [
       "{'Filete': 29.99,\n",
       " 'Big mac': 5.99,\n",
       " 'Pizza slice': 0.99,\n",
       " 'Salmon': 29.99,\n",
       " 'Burrito': 13.99}"
      ]
     },
     "execution_count": 10,
     "metadata": {},
     "output_type": "execute_result"
    }
   ],
   "source": [
    "menu"
   ]
  },
  {
   "cell_type": "code",
   "execution_count": 11,
   "id": "0925ca11",
   "metadata": {},
   "outputs": [
    {
     "data": {
      "text/plain": [
       "29.99"
      ]
     },
     "execution_count": 11,
     "metadata": {},
     "output_type": "execute_result"
    }
   ],
   "source": [
    "menu.pop(\"Filete\")"
   ]
  },
  {
   "cell_type": "code",
   "execution_count": 12,
   "id": "557be29a",
   "metadata": {},
   "outputs": [
    {
     "data": {
      "text/plain": [
       "{'Big mac': 5.99, 'Pizza slice': 0.99, 'Salmon': 29.99, 'Burrito': 13.99}"
      ]
     },
     "execution_count": 12,
     "metadata": {},
     "output_type": "execute_result"
    }
   ],
   "source": [
    "menu"
   ]
  },
  {
   "cell_type": "code",
   "execution_count": 13,
   "id": "ae14e4ca",
   "metadata": {},
   "outputs": [
    {
     "data": {
      "text/plain": [
       "True"
      ]
     },
     "execution_count": 13,
     "metadata": {},
     "output_type": "execute_result"
    }
   ],
   "source": [
    "\"Pizza slice\" in menu "
   ]
  },
  {
   "cell_type": "code",
   "execution_count": 14,
   "id": "ecd58fc7",
   "metadata": {},
   "outputs": [
    {
     "data": {
      "text/plain": [
       "False"
      ]
     },
     "execution_count": 14,
     "metadata": {},
     "output_type": "execute_result"
    }
   ],
   "source": [
    "\"Burger\" in menu"
   ]
  },
  {
   "cell_type": "code",
   "execution_count": 15,
   "id": "89d16604",
   "metadata": {},
   "outputs": [
    {
     "data": {
      "text/plain": [
       "True"
      ]
     },
     "execution_count": 15,
     "metadata": {},
     "output_type": "execute_result"
    }
   ],
   "source": [
    "\"burger\" not in menu"
   ]
  },
  {
   "cell_type": "code",
   "execution_count": 16,
   "id": "710cd9c0",
   "metadata": {},
   "outputs": [
    {
     "data": {
      "text/plain": [
       "dict_values([5.99, 0.99, 29.99, 13.99])"
      ]
     },
     "execution_count": 16,
     "metadata": {},
     "output_type": "execute_result"
    }
   ],
   "source": [
    "menu.values()"
   ]
  },
  {
   "cell_type": "code",
   "execution_count": 17,
   "id": "e6d0eeb8",
   "metadata": {},
   "outputs": [
    {
     "data": {
      "text/plain": [
       "dict_keys(['Big mac', 'Pizza slice', 'Salmon', 'Burrito'])"
      ]
     },
     "execution_count": 17,
     "metadata": {},
     "output_type": "execute_result"
    }
   ],
   "source": [
    "menu.keys()"
   ]
  },
  {
   "cell_type": "code",
   "execution_count": 18,
   "id": "87fbfe10",
   "metadata": {},
   "outputs": [
    {
     "data": {
      "text/plain": [
       "True"
      ]
     },
     "execution_count": 18,
     "metadata": {},
     "output_type": "execute_result"
    }
   ],
   "source": [
    "5.99 in menu.values()"
   ]
  },
  {
   "cell_type": "code",
   "execution_count": 3,
   "id": "e5ad6dbc",
   "metadata": {},
   "outputs": [
    {
     "data": {
      "text/plain": [
       "3.3333333333333335"
      ]
     },
     "execution_count": 3,
     "metadata": {},
     "output_type": "execute_result"
    }
   ],
   "source": [
    "10/3"
   ]
  },
  {
   "cell_type": "code",
   "execution_count": 4,
   "id": "46223a9b",
   "metadata": {},
   "outputs": [
    {
     "data": {
      "text/plain": [
       "2"
      ]
     },
     "execution_count": 4,
     "metadata": {},
     "output_type": "execute_result"
    }
   ],
   "source": [
    "14%3"
   ]
  },
  {
   "cell_type": "code",
   "execution_count": 5,
   "id": "1983ee50",
   "metadata": {},
   "outputs": [
    {
     "data": {
      "text/plain": [
       "'banana'"
      ]
     },
     "execution_count": 5,
     "metadata": {},
     "output_type": "execute_result"
    }
   ],
   "source": [
    "#Remove the second element of the fruit list:\n",
    "fruits = ['apple', 'banana', 'cherry']\n",
    "\n",
    "fruits.pop(1) "
   ]
  },
  {
   "cell_type": "code",
   "execution_count": 6,
   "id": "e0a8bd49",
   "metadata": {},
   "outputs": [
    {
     "data": {
      "text/plain": [
       "['apple', 'cherry']"
      ]
     },
     "execution_count": 6,
     "metadata": {},
     "output_type": "execute_result"
    }
   ],
   "source": [
    "fruits"
   ]
  },
  {
   "cell_type": "code",
   "execution_count": null,
   "id": "f9b5d5dd",
   "metadata": {},
   "outputs": [],
   "source": []
  }
 ],
 "metadata": {
  "kernelspec": {
   "display_name": "Python 3 (ipykernel)",
   "language": "python",
   "name": "python3"
  },
  "language_info": {
   "codemirror_mode": {
    "name": "ipython",
    "version": 3
   },
   "file_extension": ".py",
   "mimetype": "text/x-python",
   "name": "python",
   "nbconvert_exporter": "python",
   "pygments_lexer": "ipython3",
   "version": "3.10.12"
  },
  "vscode": {
   "interpreter": {
    "hash": "6bac39e8ff45fd082bcb7eb1a7f8ad7349c54d08914c3f0fc355778afccd9b5f"
   }
  }
 },
 "nbformat": 4,
 "nbformat_minor": 5
}
